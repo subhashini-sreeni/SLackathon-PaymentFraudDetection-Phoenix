{
 "cells": [
  {
   "cell_type": "markdown",
   "id": "b2e0b460",
   "metadata": {
    "id": "b2e0b460"
   },
   "source": [
    "## Import Libraries"
   ]
  },
  {
   "cell_type": "code",
   "execution_count": 1,
   "id": "27a405fe",
   "metadata": {
    "id": "27a405fe"
   },
   "outputs": [],
   "source": [
    "import pandas as pd\n",
    "import numpy as np\n",
    "import sklearn\n",
    "import matplotlib.pyplot as plt\n",
    "import seaborn as sns\n",
    "import time\n",
    "import warnings\n",
    "warnings.filterwarnings('ignore')"
   ]
  },
  {
   "cell_type": "code",
   "execution_count": 2,
   "id": "55dc2587",
   "metadata": {
    "id": "55dc2587"
   },
   "outputs": [],
   "source": [
    "dataSet = pd.read_csv('data/nUsersCreditCardTxs.csv')"
   ]
  },
  {
   "cell_type": "code",
   "execution_count": 3,
   "id": "bcaa1a26",
   "metadata": {
    "colab": {
     "base_uri": "https://localhost:8080/",
     "height": 299
    },
    "id": "bcaa1a26",
    "outputId": "19f35d17-3372-4654-a212-9efaf8a4bac7",
    "scrolled": true
   },
   "outputs": [
    {
     "data": {
      "text/html": [
       "<div>\n",
       "<style scoped>\n",
       "    .dataframe tbody tr th:only-of-type {\n",
       "        vertical-align: middle;\n",
       "    }\n",
       "\n",
       "    .dataframe tbody tr th {\n",
       "        vertical-align: top;\n",
       "    }\n",
       "\n",
       "    .dataframe thead th {\n",
       "        text-align: right;\n",
       "    }\n",
       "</style>\n",
       "<table border=\"1\" class=\"dataframe\">\n",
       "  <thead>\n",
       "    <tr style=\"text-align: right;\">\n",
       "      <th></th>\n",
       "      <th>Time</th>\n",
       "      <th>V1</th>\n",
       "      <th>V2</th>\n",
       "      <th>V3</th>\n",
       "      <th>V4</th>\n",
       "      <th>V5</th>\n",
       "      <th>V6</th>\n",
       "      <th>V7</th>\n",
       "      <th>V8</th>\n",
       "      <th>V9</th>\n",
       "      <th>...</th>\n",
       "      <th>V21</th>\n",
       "      <th>V22</th>\n",
       "      <th>V23</th>\n",
       "      <th>V24</th>\n",
       "      <th>V25</th>\n",
       "      <th>V26</th>\n",
       "      <th>V27</th>\n",
       "      <th>V28</th>\n",
       "      <th>Amount</th>\n",
       "      <th>Class</th>\n",
       "    </tr>\n",
       "  </thead>\n",
       "  <tbody>\n",
       "    <tr>\n",
       "      <th>0</th>\n",
       "      <td>0.0</td>\n",
       "      <td>-1.359807</td>\n",
       "      <td>-0.072781</td>\n",
       "      <td>2.536347</td>\n",
       "      <td>1.378155</td>\n",
       "      <td>-0.338321</td>\n",
       "      <td>0.462388</td>\n",
       "      <td>0.239599</td>\n",
       "      <td>0.098698</td>\n",
       "      <td>0.363787</td>\n",
       "      <td>...</td>\n",
       "      <td>-0.018307</td>\n",
       "      <td>0.277838</td>\n",
       "      <td>-0.110474</td>\n",
       "      <td>0.066928</td>\n",
       "      <td>0.128539</td>\n",
       "      <td>-0.189115</td>\n",
       "      <td>0.133558</td>\n",
       "      <td>-0.021053</td>\n",
       "      <td>149.62</td>\n",
       "      <td>0</td>\n",
       "    </tr>\n",
       "    <tr>\n",
       "      <th>1</th>\n",
       "      <td>0.0</td>\n",
       "      <td>1.191857</td>\n",
       "      <td>0.266151</td>\n",
       "      <td>0.166480</td>\n",
       "      <td>0.448154</td>\n",
       "      <td>0.060018</td>\n",
       "      <td>-0.082361</td>\n",
       "      <td>-0.078803</td>\n",
       "      <td>0.085102</td>\n",
       "      <td>-0.255425</td>\n",
       "      <td>...</td>\n",
       "      <td>-0.225775</td>\n",
       "      <td>-0.638672</td>\n",
       "      <td>0.101288</td>\n",
       "      <td>-0.339846</td>\n",
       "      <td>0.167170</td>\n",
       "      <td>0.125895</td>\n",
       "      <td>-0.008983</td>\n",
       "      <td>0.014724</td>\n",
       "      <td>2.69</td>\n",
       "      <td>0</td>\n",
       "    </tr>\n",
       "    <tr>\n",
       "      <th>2</th>\n",
       "      <td>1.0</td>\n",
       "      <td>-1.358354</td>\n",
       "      <td>-1.340163</td>\n",
       "      <td>1.773209</td>\n",
       "      <td>0.379780</td>\n",
       "      <td>-0.503198</td>\n",
       "      <td>1.800499</td>\n",
       "      <td>0.791461</td>\n",
       "      <td>0.247676</td>\n",
       "      <td>-1.514654</td>\n",
       "      <td>...</td>\n",
       "      <td>0.247998</td>\n",
       "      <td>0.771679</td>\n",
       "      <td>0.909412</td>\n",
       "      <td>-0.689281</td>\n",
       "      <td>-0.327642</td>\n",
       "      <td>-0.139097</td>\n",
       "      <td>-0.055353</td>\n",
       "      <td>-0.059752</td>\n",
       "      <td>378.66</td>\n",
       "      <td>0</td>\n",
       "    </tr>\n",
       "    <tr>\n",
       "      <th>3</th>\n",
       "      <td>1.0</td>\n",
       "      <td>-0.966272</td>\n",
       "      <td>-0.185226</td>\n",
       "      <td>1.792993</td>\n",
       "      <td>-0.863291</td>\n",
       "      <td>-0.010309</td>\n",
       "      <td>1.247203</td>\n",
       "      <td>0.237609</td>\n",
       "      <td>0.377436</td>\n",
       "      <td>-1.387024</td>\n",
       "      <td>...</td>\n",
       "      <td>-0.108300</td>\n",
       "      <td>0.005274</td>\n",
       "      <td>-0.190321</td>\n",
       "      <td>-1.175575</td>\n",
       "      <td>0.647376</td>\n",
       "      <td>-0.221929</td>\n",
       "      <td>0.062723</td>\n",
       "      <td>0.061458</td>\n",
       "      <td>123.50</td>\n",
       "      <td>0</td>\n",
       "    </tr>\n",
       "    <tr>\n",
       "      <th>4</th>\n",
       "      <td>2.0</td>\n",
       "      <td>-1.158233</td>\n",
       "      <td>0.877737</td>\n",
       "      <td>1.548718</td>\n",
       "      <td>0.403034</td>\n",
       "      <td>-0.407193</td>\n",
       "      <td>0.095921</td>\n",
       "      <td>0.592941</td>\n",
       "      <td>-0.270533</td>\n",
       "      <td>0.817739</td>\n",
       "      <td>...</td>\n",
       "      <td>-0.009431</td>\n",
       "      <td>0.798278</td>\n",
       "      <td>-0.137458</td>\n",
       "      <td>0.141267</td>\n",
       "      <td>-0.206010</td>\n",
       "      <td>0.502292</td>\n",
       "      <td>0.219422</td>\n",
       "      <td>0.215153</td>\n",
       "      <td>69.99</td>\n",
       "      <td>0</td>\n",
       "    </tr>\n",
       "  </tbody>\n",
       "</table>\n",
       "<p>5 rows × 31 columns</p>\n",
       "</div>"
      ],
      "text/plain": [
       "   Time        V1        V2        V3        V4        V5        V6        V7  \\\n",
       "0   0.0 -1.359807 -0.072781  2.536347  1.378155 -0.338321  0.462388  0.239599   \n",
       "1   0.0  1.191857  0.266151  0.166480  0.448154  0.060018 -0.082361 -0.078803   \n",
       "2   1.0 -1.358354 -1.340163  1.773209  0.379780 -0.503198  1.800499  0.791461   \n",
       "3   1.0 -0.966272 -0.185226  1.792993 -0.863291 -0.010309  1.247203  0.237609   \n",
       "4   2.0 -1.158233  0.877737  1.548718  0.403034 -0.407193  0.095921  0.592941   \n",
       "\n",
       "         V8        V9  ...       V21       V22       V23       V24       V25  \\\n",
       "0  0.098698  0.363787  ... -0.018307  0.277838 -0.110474  0.066928  0.128539   \n",
       "1  0.085102 -0.255425  ... -0.225775 -0.638672  0.101288 -0.339846  0.167170   \n",
       "2  0.247676 -1.514654  ...  0.247998  0.771679  0.909412 -0.689281 -0.327642   \n",
       "3  0.377436 -1.387024  ... -0.108300  0.005274 -0.190321 -1.175575  0.647376   \n",
       "4 -0.270533  0.817739  ... -0.009431  0.798278 -0.137458  0.141267 -0.206010   \n",
       "\n",
       "        V26       V27       V28  Amount  Class  \n",
       "0 -0.189115  0.133558 -0.021053  149.62      0  \n",
       "1  0.125895 -0.008983  0.014724    2.69      0  \n",
       "2 -0.139097 -0.055353 -0.059752  378.66      0  \n",
       "3 -0.221929  0.062723  0.061458  123.50      0  \n",
       "4  0.502292  0.219422  0.215153   69.99      0  \n",
       "\n",
       "[5 rows x 31 columns]"
      ]
     },
     "execution_count": 3,
     "metadata": {},
     "output_type": "execute_result"
    }
   ],
   "source": [
    "dataSet.head()"
   ]
  },
  {
   "cell_type": "markdown",
   "id": "bd03f498",
   "metadata": {
    "id": "bd03f498"
   },
   "source": [
    "\n",
    "Notice that the variables are PCA transformed. Due to confidentiality issues the data set available online isn't having the actual feature names. Only Time and Amount are readable ones. While Amount is the total transaction amount, the Time column is the number of seconds elapsed between the transaction in consideration and the very first transaction of the dataset. \n",
    "\n"
   ]
  },
  {
   "cell_type": "code",
   "execution_count": 4,
   "id": "1ca34507",
   "metadata": {
    "colab": {
     "base_uri": "https://localhost:8080/"
    },
    "id": "1ca34507",
    "outputId": "7a0d5807-2d5f-4206-aac8-9eaa41051c19"
   },
   "outputs": [
    {
     "name": "stdout",
     "output_type": "stream",
     "text": [
      "<class 'pandas.core.frame.DataFrame'>\n",
      "RangeIndex: 284807 entries, 0 to 284806\n",
      "Data columns (total 31 columns):\n",
      " #   Column  Non-Null Count   Dtype  \n",
      "---  ------  --------------   -----  \n",
      " 0   Time    284807 non-null  float64\n",
      " 1   V1      284807 non-null  float64\n",
      " 2   V2      284807 non-null  float64\n",
      " 3   V3      284807 non-null  float64\n",
      " 4   V4      284807 non-null  float64\n",
      " 5   V5      284807 non-null  float64\n",
      " 6   V6      284807 non-null  float64\n",
      " 7   V7      284807 non-null  float64\n",
      " 8   V8      284807 non-null  float64\n",
      " 9   V9      284807 non-null  float64\n",
      " 10  V10     284807 non-null  float64\n",
      " 11  V11     284807 non-null  float64\n",
      " 12  V12     284807 non-null  float64\n",
      " 13  V13     284807 non-null  float64\n",
      " 14  V14     284807 non-null  float64\n",
      " 15  V15     284807 non-null  float64\n",
      " 16  V16     284807 non-null  float64\n",
      " 17  V17     284807 non-null  float64\n",
      " 18  V18     284807 non-null  float64\n",
      " 19  V19     284807 non-null  float64\n",
      " 20  V20     284807 non-null  float64\n",
      " 21  V21     284807 non-null  float64\n",
      " 22  V22     284807 non-null  float64\n",
      " 23  V23     284807 non-null  float64\n",
      " 24  V24     284807 non-null  float64\n",
      " 25  V25     284807 non-null  float64\n",
      " 26  V26     284807 non-null  float64\n",
      " 27  V27     284807 non-null  float64\n",
      " 28  V28     284807 non-null  float64\n",
      " 29  Amount  284807 non-null  float64\n",
      " 30  Class   284807 non-null  int64  \n",
      "dtypes: float64(30), int64(1)\n",
      "memory usage: 67.4 MB\n"
     ]
    }
   ],
   "source": [
    "dataSet.info(verbose=True, show_counts=True)"
   ]
  },
  {
   "cell_type": "markdown",
   "id": "bb1d52ef",
   "metadata": {
    "id": "bb1d52ef"
   },
   "source": [
    "Data is clean as there aren't any null values"
   ]
  },
  {
   "cell_type": "markdown",
   "id": "f01fb112",
   "metadata": {
    "id": "f01fb112"
   },
   "source": [
    "#### Data set limitation"
   ]
  },
  {
   "cell_type": "code",
   "execution_count": 5,
   "id": "0a4d2d2a",
   "metadata": {
    "colab": {
     "base_uri": "https://localhost:8080/"
    },
    "id": "0a4d2d2a",
    "outputId": "53149c7a-df0a-4358-ea40-d385317541c6"
   },
   "outputs": [
    {
     "data": {
      "text/plain": [
       "0    284315\n",
       "1       492\n",
       "Name: Class, dtype: int64"
      ]
     },
     "execution_count": 5,
     "metadata": {},
     "output_type": "execute_result"
    }
   ],
   "source": [
    "dataSet['Class'].value_counts()"
   ]
  },
  {
   "cell_type": "markdown",
   "id": "7acc5a59",
   "metadata": {
    "id": "7acc5a59"
   },
   "source": [
    "Class with value 1 indicate fradulent transaction and Class with value 0 indicate a legitimate transaction. \n",
    "The data set has only 492 fradulent transaction which is 0.17% of the data set. This is a very imbalanced data set."
   ]
  },
  {
   "cell_type": "markdown",
   "id": "f6791072",
   "metadata": {
    "id": "f6791072"
   },
   "source": [
    "## Data Visualization"
   ]
  },
  {
   "cell_type": "markdown",
   "id": "9d9d74e1",
   "metadata": {
    "id": "9d9d74e1"
   },
   "source": [
    "### Correlation"
   ]
  },
  {
   "cell_type": "code",
   "execution_count": 6,
   "id": "68523e9b",
   "metadata": {
    "colab": {
     "base_uri": "https://localhost:8080/",
     "height": 607
    },
    "id": "68523e9b",
    "outputId": "f2758c81-c335-4d2e-dea5-2e3b770a842b"
   },
   "outputs": [
    {
     "data": {
      "image/png": "[encoded data removed]",
      "text/plain": [
       "<Figure size 720x720 with 1 Axes>"
      ]
     },
     "metadata": {
      "needs_background": "light"
     },
     "output_type": "display_data"
    }
   ],
   "source": [
    "plt.figure(figsize=(10,10))\n",
    "corr = dataSet.corr()['Class'].sort_values().drop('Class')\n",
    "corr.plot(kind='barh')\n",
    "plt.title('Correlation between Features')\n",
    "plt.grid(True)\n",
    "plt.show()"
   ]
  },
  {
   "cell_type": "markdown",
   "id": "ba5bc8f9",
   "metadata": {
    "id": "ba5bc8f9"
   },
   "source": [
    "## Separating the data into featured and dependent variable"
   ]
  },
  {
   "cell_type": "code",
   "execution_count": 7,
   "id": "e74c1ba6",
   "metadata": {
    "id": "e74c1ba6"
   },
   "outputs": [],
   "source": [
    "df = dataSet[dataSet['Class'] == 1]\n",
    "df1 = dataSet[dataSet['Class']== 0]\n",
    "df1.drop(df1.index[2000: ],0,inplace=True)\n",
    "nUsersCreditCardTxs = pd.concat([df, df1], axis=0)\n"
   ]
  },
  {
   "cell_type": "code",
   "execution_count": 8,
   "id": "c9a4e81c",
   "metadata": {
    "id": "c9a4e81c"
   },
   "outputs": [],
   "source": [
    "xfeatures = ['V11','V4','V10','V12','V14','V17']\n",
    "\n",
    "x = nUsersCreditCardTxs[xfeatures]\n",
    "y = nUsersCreditCardTxs['Class']\n"
   ]
  },
  {
   "cell_type": "code",
   "execution_count": 9,
   "id": "29111816",
   "metadata": {
    "id": "29111816"
   },
   "outputs": [],
   "source": [
    "from sklearn.model_selection import train_test_split\n",
    "\n",
    "x_train,x_test,y_train,y_test= train_test_split(x,y, test_size=0.2, stratify=y, random_state=24)"
   ]
  },
  {
   "cell_type": "code",
   "execution_count": 10,
   "id": "7af4a96f",
   "metadata": {
    "id": "7af4a96f"
   },
   "outputs": [],
   "source": [
    "from sklearn.preprocessing import StandardScaler\n",
    "\n",
    "standardScaler=StandardScaler()\n",
    "x_train=standardScaler.fit_transform(x_train)\n",
    "x_test=standardScaler.transform(x_test)"
   ]
  },
  {
   "cell_type": "markdown",
   "id": "d394d238",
   "metadata": {
    "id": "d394d238"
   },
   "source": [
    "## Model building"
   ]
  },
  {
   "cell_type": "markdown",
   "id": "646c6748",
   "metadata": {
    "id": "646c6748"
   },
   "source": [
    "## Model 1 -  Dense + Batch normalization"
   ]
  },
  {
   "cell_type": "code",
   "execution_count": 11,
   "id": "ca7cbcf7",
   "metadata": {},
   "outputs": [],
   "source": [
    "#pip install tensorflow"
   ]
  },
  {
   "cell_type": "code",
   "execution_count": 12,
   "id": "cee41882",
   "metadata": {},
   "outputs": [],
   "source": [
    "import tensorflow as tf\n",
    "\n",
    "from tensorflow.keras import datasets, layers, models\n",
    "from tensorflow.keras.layers import BatchNormalization"
   ]
  },
  {
   "cell_type": "code",
   "execution_count": 13,
   "id": "0b36efa9",
   "metadata": {},
   "outputs": [],
   "source": [
    "dBnModel = models.Sequential()\n",
    "\n",
    "dBnModel.add(layers.Dense(30, activation='relu', input_dim = x_train.shape[1]))\n",
    "layers.Dropout(0.5)\n",
    "dBnModel.add(BatchNormalization())\n",
    "dBnModel.add(layers.Dense(15, activation='relu'))\n",
    "layers.Dropout(0.5)\n",
    "dBnModel.add(BatchNormalization())\n",
    "dBnModel.add(layers.Dense(1, activation='relu'))\n",
    "layers.Dropout(0.5)\n",
    "dBnModel.add(BatchNormalization())\n"
   ]
  },
  {
   "cell_type": "code",
   "execution_count": 14,
   "id": "e92939a0",
   "metadata": {},
   "outputs": [
    {
     "name": "stdout",
     "output_type": "stream",
     "text": [
      "Model: \"sequential\"\n",
      "_________________________________________________________________\n",
      " Layer (type)                Output Shape              Param #   \n",
      "=================================================================\n",
      " dense (Dense)               (None, 30)                210       \n",
      "                                                                 \n",
      " batch_normalization (BatchN  (None, 30)               120       \n",
      " ormalization)                                                   \n",
      "                                                                 \n",
      " dense_1 (Dense)             (None, 15)                465       \n",
      "                                                                 \n",
      " batch_normalization_1 (Batc  (None, 15)               60        \n",
      " hNormalization)                                                 \n",
      "                                                                 \n",
      " dense_2 (Dense)             (None, 1)                 16        \n",
      "                                                                 \n",
      " batch_normalization_2 (Batc  (None, 1)                4         \n",
      " hNormalization)                                                 \n",
      "                                                                 \n",
      "=================================================================\n",
      "Total params: 875\n",
      "Trainable params: 783\n",
      "Non-trainable params: 92\n",
      "_________________________________________________________________\n"
     ]
    }
   ],
   "source": [
    "dBnModel.summary()"
   ]
  },
  {
   "cell_type": "code",
   "execution_count": 15,
   "id": "b216d180",
   "metadata": {},
   "outputs": [],
   "source": [
    "dBnModel.compile(optimizer='adam',\n",
    "              loss=\"binary_crossentropy\",\n",
    "              metrics=['accuracy'])"
   ]
  },
  {
   "cell_type": "code",
   "execution_count": 16,
   "id": "fdc0c6a1",
   "metadata": {},
   "outputs": [],
   "source": [
    "from tensorflow.keras.callbacks import EarlyStopping\n",
    "\n",
    "earlyStop = EarlyStopping(monitor = \"val_loss\",\n",
    "                           mode = \"auto\",\n",
    "                           verbose = 1,\n",
    "                           patience = 5, restore_best_weights = True)"
   ]
  },
  {
   "cell_type": "code",
   "execution_count": 17,
   "id": "9e39c8f6",
   "metadata": {},
   "outputs": [
    {
     "name": "stdout",
     "output_type": "stream",
     "text": [
      "Epoch 1/50\n",
      "57/57 [==============================] - 1s 5ms/step - loss: 3.8761 - accuracy: 0.6799 - val_loss: 1.7417 - val_accuracy: 0.8350\n",
      "Epoch 2/50\n",
      "57/57 [==============================] - 0s 2ms/step - loss: 0.9315 - accuracy: 0.9063 - val_loss: 1.0748 - val_accuracy: 0.9100\n",
      "Epoch 3/50\n",
      "57/57 [==============================] - 0s 2ms/step - loss: 0.4772 - accuracy: 0.9320 - val_loss: 0.5745 - val_accuracy: 0.9100\n",
      "Epoch 4/50\n",
      "57/57 [==============================] - 0s 2ms/step - loss: 0.4282 - accuracy: 0.9398 - val_loss: 0.4676 - val_accuracy: 0.9250\n",
      "Epoch 5/50\n",
      "57/57 [==============================] - 0s 2ms/step - loss: 0.4443 - accuracy: 0.9414 - val_loss: 0.3666 - val_accuracy: 0.9550\n",
      "Epoch 6/50\n",
      "57/57 [==============================] - 0s 2ms/step - loss: 0.3957 - accuracy: 0.9403 - val_loss: 0.3506 - val_accuracy: 0.9650\n",
      "Epoch 7/50\n",
      "57/57 [==============================] - 0s 2ms/step - loss: 0.4058 - accuracy: 0.9453 - val_loss: 0.3428 - val_accuracy: 0.9700\n",
      "Epoch 8/50\n",
      "57/57 [==============================] - 0s 2ms/step - loss: 0.4368 - accuracy: 0.9442 - val_loss: 0.3404 - val_accuracy: 0.9700\n",
      "Epoch 9/50\n",
      "57/57 [==============================] - 0s 2ms/step - loss: 0.3335 - accuracy: 0.9481 - val_loss: 0.3395 - val_accuracy: 0.9700\n",
      "Epoch 10/50\n",
      "57/57 [==============================] - 0s 2ms/step - loss: 0.3620 - accuracy: 0.9431 - val_loss: 0.3390 - val_accuracy: 0.9650\n",
      "Epoch 11/50\n",
      "57/57 [==============================] - 0s 2ms/step - loss: 0.3621 - accuracy: 0.9470 - val_loss: 0.3373 - val_accuracy: 0.9700\n",
      "Epoch 12/50\n",
      "57/57 [==============================] - 0s 2ms/step - loss: 0.4373 - accuracy: 0.9459 - val_loss: 0.3366 - val_accuracy: 0.9650\n",
      "Epoch 13/50\n",
      "57/57 [==============================] - 0s 2ms/step - loss: 0.3710 - accuracy: 0.9504 - val_loss: 0.3354 - val_accuracy: 0.9650\n",
      "Epoch 14/50\n",
      "57/57 [==============================] - 0s 2ms/step - loss: 0.4063 - accuracy: 0.9504 - val_loss: 0.3494 - val_accuracy: 0.9600\n",
      "Epoch 15/50\n",
      "57/57 [==============================] - 0s 1ms/step - loss: 0.4049 - accuracy: 0.9448 - val_loss: 0.3582 - val_accuracy: 0.9650\n",
      "Epoch 16/50\n",
      "57/57 [==============================] - 0s 1ms/step - loss: 0.4158 - accuracy: 0.9481 - val_loss: 0.3451 - val_accuracy: 0.9650\n",
      "Epoch 17/50\n",
      "57/57 [==============================] - 0s 2ms/step - loss: 0.3126 - accuracy: 0.9559 - val_loss: 0.3435 - val_accuracy: 0.9650\n",
      "Epoch 18/50\n",
      "48/57 [========================>.....] - ETA: 0s - loss: 0.3924 - accuracy: 0.9551Restoring model weights from the end of the best epoch: 13.\n",
      "57/57 [==============================] - 0s 2ms/step - loss: 0.3748 - accuracy: 0.9543 - val_loss: 0.3413 - val_accuracy: 0.9650\n",
      "Epoch 18: early stopping\n"
     ]
    },
    {
     "data": {
      "text/plain": [
       "<keras.callbacks.History at 0x16daa5c6400>"
      ]
     },
     "execution_count": 17,
     "metadata": {},
     "output_type": "execute_result"
    }
   ],
   "source": [
    "dBnModel.fit(x = x_train, y = y_train, validation_split = 0.1, batch_size = 32, \n",
    "             epochs = 50, callbacks = [earlyStop], verbose = 1)"
   ]
  },
  {
   "cell_type": "code",
   "execution_count": 18,
   "id": "c0576350",
   "metadata": {},
   "outputs": [
    {
     "data": {
      "text/html": [
       "<div>\n",
       "<style scoped>\n",
       "    .dataframe tbody tr th:only-of-type {\n",
       "        vertical-align: middle;\n",
       "    }\n",
       "\n",
       "    .dataframe tbody tr th {\n",
       "        vertical-align: top;\n",
       "    }\n",
       "\n",
       "    .dataframe thead th {\n",
       "        text-align: right;\n",
       "    }\n",
       "</style>\n",
       "<table border=\"1\" class=\"dataframe\">\n",
       "  <thead>\n",
       "    <tr style=\"text-align: right;\">\n",
       "      <th></th>\n",
       "      <th>loss</th>\n",
       "      <th>accuracy</th>\n",
       "      <th>val_loss</th>\n",
       "      <th>val_accuracy</th>\n",
       "    </tr>\n",
       "  </thead>\n",
       "  <tbody>\n",
       "    <tr>\n",
       "      <th>0</th>\n",
       "      <td>3.876082</td>\n",
       "      <td>0.679866</td>\n",
       "      <td>1.741697</td>\n",
       "      <td>0.835</td>\n",
       "    </tr>\n",
       "    <tr>\n",
       "      <th>1</th>\n",
       "      <td>0.931456</td>\n",
       "      <td>0.906302</td>\n",
       "      <td>1.074842</td>\n",
       "      <td>0.910</td>\n",
       "    </tr>\n",
       "    <tr>\n",
       "      <th>2</th>\n",
       "      <td>0.477242</td>\n",
       "      <td>0.931958</td>\n",
       "      <td>0.574493</td>\n",
       "      <td>0.910</td>\n",
       "    </tr>\n",
       "    <tr>\n",
       "      <th>3</th>\n",
       "      <td>0.428165</td>\n",
       "      <td>0.939766</td>\n",
       "      <td>0.467647</td>\n",
       "      <td>0.925</td>\n",
       "    </tr>\n",
       "    <tr>\n",
       "      <th>4</th>\n",
       "      <td>0.444295</td>\n",
       "      <td>0.941439</td>\n",
       "      <td>0.366602</td>\n",
       "      <td>0.955</td>\n",
       "    </tr>\n",
       "  </tbody>\n",
       "</table>\n",
       "</div>"
      ],
      "text/plain": [
       "       loss  accuracy  val_loss  val_accuracy\n",
       "0  3.876082  0.679866  1.741697         0.835\n",
       "1  0.931456  0.906302  1.074842         0.910\n",
       "2  0.477242  0.931958  0.574493         0.910\n",
       "3  0.428165  0.939766  0.467647         0.925\n",
       "4  0.444295  0.941439  0.366602         0.955"
      ]
     },
     "execution_count": 18,
     "metadata": {},
     "output_type": "execute_result"
    }
   ],
   "source": [
    "accuracyLossDataF = pd.DataFrame(dBnModel.history.history)\n",
    "accuracyLossDataF.head()"
   ]
  },
  {
   "cell_type": "code",
   "execution_count": 19,
   "id": "47ffecae",
   "metadata": {},
   "outputs": [
    {
     "data": {
      "image/png": "[encoded data removed]",
      "text/plain": [
       "<Figure size 432x288 with 1 Axes>"
      ]
     },
     "metadata": {
      "needs_background": "light"
     },
     "output_type": "display_data"
    }
   ],
   "source": [
    "accuracyLossDataF.plot();"
   ]
  },
  {
   "cell_type": "code",
   "execution_count": 20,
   "id": "e8e174fa",
   "metadata": {},
   "outputs": [
    {
     "name": "stdout",
     "output_type": "stream",
     "text": [
      "Loss is 0.473082959651947 \n",
      "Accuracy is 0.9498997926712036 \n"
     ]
    }
   ],
   "source": [
    "lossDBn, accuracyDBn = dBnModel.evaluate(x_test, y_test, verbose=0)\n",
    "print(f\"Loss is {lossDBn} \")\n",
    "print(f\"Accuracy is {accuracyDBn} \" )"
   ]
  },
  {
   "cell_type": "code",
   "execution_count": 21,
   "id": "76214130",
   "metadata": {},
   "outputs": [
    {
     "name": "stdout",
     "output_type": "stream",
     "text": [
      "16/16 [==============================] - 0s 732us/step\n",
      "Confusion matrix -- \n",
      "[[393   7]\n",
      " [ 18  81]]\n",
      "Classification report -- \n",
      "              precision    recall  f1-score   support\n",
      "\n",
      "           0       0.96      0.98      0.97       400\n",
      "           1       0.92      0.82      0.87        99\n",
      "\n",
      "    accuracy                           0.95       499\n",
      "   macro avg       0.94      0.90      0.92       499\n",
      "weighted avg       0.95      0.95      0.95       499\n",
      "\n"
     ]
    }
   ],
   "source": [
    "from sklearn.metrics import classification_report, confusion_matrix\n",
    "\n",
    "y_pred = (dBnModel.predict(x_test)  > 0.5).astype(\"int32\")\n",
    "\n",
    "print(\"Confusion matrix -- \")\n",
    "print(confusion_matrix(y_test, y_pred))\n",
    "\n",
    "print(\"Classification report -- \")\n",
    "print(classification_report(y_test, y_pred))"
   ]
  }
 ],
 "metadata": {
  "accelerator": "GPU",
  "colab": {
   "provenance": []
  },
  "gpuClass": "standard",
  "kernelspec": {
   "display_name": "Python 3 (ipykernel)",
   "language": "python",
   "name": "python3"
  },
  "language_info": {
   "codemirror_mode": {
    "name": "ipython",
    "version": 3
   },
   "file_extension": ".py",
   "mimetype": "text/x-python",
   "name": "python",
   "nbconvert_exporter": "python",
   "pygments_lexer": "ipython3",
   "version": "3.9.7"
  }
 },
 "nbformat": 4,
 "nbformat_minor": 5
}
