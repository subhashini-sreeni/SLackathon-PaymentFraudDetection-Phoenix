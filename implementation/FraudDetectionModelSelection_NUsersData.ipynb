{
 "cells": [
  {
   "cell_type": "markdown",
   "id": "b2e0b460",
   "metadata": {
    "id": "b2e0b460"
   },
   "source": [
    "## Import Libraries"
   ]
  },
  {
   "cell_type": "code",
   "execution_count": 1,
   "id": "27a405fe",
   "metadata": {
    "id": "27a405fe"
   },
   "outputs": [],
   "source": [
    "import pandas as pd\n",
    "import numpy as np\n",
    "import sklearn\n",
    "import matplotlib.pyplot as plt\n",
    "import seaborn as sns\n",
    "import time\n",
    "import warnings\n",
    "warnings.filterwarnings('ignore')"
   ]
  },
  {
   "cell_type": "code",
   "execution_count": 2,
   "id": "55dc2587",
   "metadata": {
    "id": "55dc2587"
   },
   "outputs": [],
   "source": [
    "dataSet = pd.read_csv('data/nUsersCreditCardTxs.csv')"
   ]
  },
  {
   "cell_type": "code",
   "execution_count": 3,
   "id": "bcaa1a26",
   "metadata": {
    "colab": {
     "base_uri": "https://localhost:8080/",
     "height": 299
    },
    "id": "bcaa1a26",
    "outputId": "19f35d17-3372-4654-a212-9efaf8a4bac7",
    "scrolled": true
   },
   "outputs": [
    {
     "data": {
      "text/html": [
       "<div>\n",
       "<style scoped>\n",
       "    .dataframe tbody tr th:only-of-type {\n",
       "        vertical-align: middle;\n",
       "    }\n",
       "\n",
       "    .dataframe tbody tr th {\n",
       "        vertical-align: top;\n",
       "    }\n",
       "\n",
       "    .dataframe thead th {\n",
       "        text-align: right;\n",
       "    }\n",
       "</style>\n",
       "<table border=\"1\" class=\"dataframe\">\n",
       "  <thead>\n",
       "    <tr style=\"text-align: right;\">\n",
       "      <th></th>\n",
       "      <th>Time</th>\n",
       "      <th>V1</th>\n",
       "      <th>V2</th>\n",
       "      <th>V3</th>\n",
       "      <th>V4</th>\n",
       "      <th>V5</th>\n",
       "      <th>V6</th>\n",
       "      <th>V7</th>\n",
       "      <th>V8</th>\n",
       "      <th>V9</th>\n",
       "      <th>...</th>\n",
       "      <th>V21</th>\n",
       "      <th>V22</th>\n",
       "      <th>V23</th>\n",
       "      <th>V24</th>\n",
       "      <th>V25</th>\n",
       "      <th>V26</th>\n",
       "      <th>V27</th>\n",
       "      <th>V28</th>\n",
       "      <th>Amount</th>\n",
       "      <th>Class</th>\n",
       "    </tr>\n",
       "  </thead>\n",
       "  <tbody>\n",
       "    <tr>\n",
       "      <th>0</th>\n",
       "      <td>0.0</td>\n",
       "      <td>-1.359807</td>\n",
       "      <td>-0.072781</td>\n",
       "      <td>2.536347</td>\n",
       "      <td>1.378155</td>\n",
       "      <td>-0.338321</td>\n",
       "      <td>0.462388</td>\n",
       "      <td>0.239599</td>\n",
       "      <td>0.098698</td>\n",
       "      <td>0.363787</td>\n",
       "      <td>...</td>\n",
       "      <td>-0.018307</td>\n",
       "      <td>0.277838</td>\n",
       "      <td>-0.110474</td>\n",
       "      <td>0.066928</td>\n",
       "      <td>0.128539</td>\n",
       "      <td>-0.189115</td>\n",
       "      <td>0.133558</td>\n",
       "      <td>-0.021053</td>\n",
       "      <td>149.62</td>\n",
       "      <td>0</td>\n",
       "    </tr>\n",
       "    <tr>\n",
       "      <th>1</th>\n",
       "      <td>0.0</td>\n",
       "      <td>1.191857</td>\n",
       "      <td>0.266151</td>\n",
       "      <td>0.166480</td>\n",
       "      <td>0.448154</td>\n",
       "      <td>0.060018</td>\n",
       "      <td>-0.082361</td>\n",
       "      <td>-0.078803</td>\n",
       "      <td>0.085102</td>\n",
       "      <td>-0.255425</td>\n",
       "      <td>...</td>\n",
       "      <td>-0.225775</td>\n",
       "      <td>-0.638672</td>\n",
       "      <td>0.101288</td>\n",
       "      <td>-0.339846</td>\n",
       "      <td>0.167170</td>\n",
       "      <td>0.125895</td>\n",
       "      <td>-0.008983</td>\n",
       "      <td>0.014724</td>\n",
       "      <td>2.69</td>\n",
       "      <td>0</td>\n",
       "    </tr>\n",
       "    <tr>\n",
       "      <th>2</th>\n",
       "      <td>1.0</td>\n",
       "      <td>-1.358354</td>\n",
       "      <td>-1.340163</td>\n",
       "      <td>1.773209</td>\n",
       "      <td>0.379780</td>\n",
       "      <td>-0.503198</td>\n",
       "      <td>1.800499</td>\n",
       "      <td>0.791461</td>\n",
       "      <td>0.247676</td>\n",
       "      <td>-1.514654</td>\n",
       "      <td>...</td>\n",
       "      <td>0.247998</td>\n",
       "      <td>0.771679</td>\n",
       "      <td>0.909412</td>\n",
       "      <td>-0.689281</td>\n",
       "      <td>-0.327642</td>\n",
       "      <td>-0.139097</td>\n",
       "      <td>-0.055353</td>\n",
       "      <td>-0.059752</td>\n",
       "      <td>378.66</td>\n",
       "      <td>0</td>\n",
       "    </tr>\n",
       "    <tr>\n",
       "      <th>3</th>\n",
       "      <td>1.0</td>\n",
       "      <td>-0.966272</td>\n",
       "      <td>-0.185226</td>\n",
       "      <td>1.792993</td>\n",
       "      <td>-0.863291</td>\n",
       "      <td>-0.010309</td>\n",
       "      <td>1.247203</td>\n",
       "      <td>0.237609</td>\n",
       "      <td>0.377436</td>\n",
       "      <td>-1.387024</td>\n",
       "      <td>...</td>\n",
       "      <td>-0.108300</td>\n",
       "      <td>0.005274</td>\n",
       "      <td>-0.190321</td>\n",
       "      <td>-1.175575</td>\n",
       "      <td>0.647376</td>\n",
       "      <td>-0.221929</td>\n",
       "      <td>0.062723</td>\n",
       "      <td>0.061458</td>\n",
       "      <td>123.50</td>\n",
       "      <td>0</td>\n",
       "    </tr>\n",
       "    <tr>\n",
       "      <th>4</th>\n",
       "      <td>2.0</td>\n",
       "      <td>-1.158233</td>\n",
       "      <td>0.877737</td>\n",
       "      <td>1.548718</td>\n",
       "      <td>0.403034</td>\n",
       "      <td>-0.407193</td>\n",
       "      <td>0.095921</td>\n",
       "      <td>0.592941</td>\n",
       "      <td>-0.270533</td>\n",
       "      <td>0.817739</td>\n",
       "      <td>...</td>\n",
       "      <td>-0.009431</td>\n",
       "      <td>0.798278</td>\n",
       "      <td>-0.137458</td>\n",
       "      <td>0.141267</td>\n",
       "      <td>-0.206010</td>\n",
       "      <td>0.502292</td>\n",
       "      <td>0.219422</td>\n",
       "      <td>0.215153</td>\n",
       "      <td>69.99</td>\n",
       "      <td>0</td>\n",
       "    </tr>\n",
       "  </tbody>\n",
       "</table>\n",
       "<p>5 rows × 31 columns</p>\n",
       "</div>"
      ],
      "text/plain": [
       "   Time        V1        V2        V3        V4        V5        V6        V7  \\\n",
       "0   0.0 -1.359807 -0.072781  2.536347  1.378155 -0.338321  0.462388  0.239599   \n",
       "1   0.0  1.191857  0.266151  0.166480  0.448154  0.060018 -0.082361 -0.078803   \n",
       "2   1.0 -1.358354 -1.340163  1.773209  0.379780 -0.503198  1.800499  0.791461   \n",
       "3   1.0 -0.966272 -0.185226  1.792993 -0.863291 -0.010309  1.247203  0.237609   \n",
       "4   2.0 -1.158233  0.877737  1.548718  0.403034 -0.407193  0.095921  0.592941   \n",
       "\n",
       "         V8        V9  ...       V21       V22       V23       V24       V25  \\\n",
       "0  0.098698  0.363787  ... -0.018307  0.277838 -0.110474  0.066928  0.128539   \n",
       "1  0.085102 -0.255425  ... -0.225775 -0.638672  0.101288 -0.339846  0.167170   \n",
       "2  0.247676 -1.514654  ...  0.247998  0.771679  0.909412 -0.689281 -0.327642   \n",
       "3  0.377436 -1.387024  ... -0.108300  0.005274 -0.190321 -1.175575  0.647376   \n",
       "4 -0.270533  0.817739  ... -0.009431  0.798278 -0.137458  0.141267 -0.206010   \n",
       "\n",
       "        V26       V27       V28  Amount  Class  \n",
       "0 -0.189115  0.133558 -0.021053  149.62      0  \n",
       "1  0.125895 -0.008983  0.014724    2.69      0  \n",
       "2 -0.139097 -0.055353 -0.059752  378.66      0  \n",
       "3 -0.221929  0.062723  0.061458  123.50      0  \n",
       "4  0.502292  0.219422  0.215153   69.99      0  \n",
       "\n",
       "[5 rows x 31 columns]"
      ]
     },
     "execution_count": 3,
     "metadata": {},
     "output_type": "execute_result"
    }
   ],
   "source": [
    "dataSet.head()"
   ]
  },
  {
   "cell_type": "markdown",
   "id": "bd03f498",
   "metadata": {
    "id": "bd03f498"
   },
   "source": [
    "\n",
    "Notice that the variables are PCA transformed. Due to confidentiality issues the data set available online isn't having the actual feature names. Only Time and Amount are readable ones. While Amount is the total transaction amount, the Time column is the number of seconds elapsed between the transaction in consideration and the very first transaction of the dataset. \n",
    "\n"
   ]
  },
  {
   "cell_type": "code",
   "execution_count": 4,
   "id": "1ca34507",
   "metadata": {
    "colab": {
     "base_uri": "https://localhost:8080/"
    },
    "id": "1ca34507",
    "outputId": "7a0d5807-2d5f-4206-aac8-9eaa41051c19"
   },
   "outputs": [
    {
     "name": "stdout",
     "output_type": "stream",
     "text": [
      "<class 'pandas.core.frame.DataFrame'>\n",
      "RangeIndex: 284807 entries, 0 to 284806\n",
      "Data columns (total 31 columns):\n",
      " #   Column  Non-Null Count   Dtype  \n",
      "---  ------  --------------   -----  \n",
      " 0   Time    284807 non-null  float64\n",
      " 1   V1      284807 non-null  float64\n",
      " 2   V2      284807 non-null  float64\n",
      " 3   V3      284807 non-null  float64\n",
      " 4   V4      284807 non-null  float64\n",
      " 5   V5      284807 non-null  float64\n",
      " 6   V6      284807 non-null  float64\n",
      " 7   V7      284807 non-null  float64\n",
      " 8   V8      284807 non-null  float64\n",
      " 9   V9      284807 non-null  float64\n",
      " 10  V10     284807 non-null  float64\n",
      " 11  V11     284807 non-null  float64\n",
      " 12  V12     284807 non-null  float64\n",
      " 13  V13     284807 non-null  float64\n",
      " 14  V14     284807 non-null  float64\n",
      " 15  V15     284807 non-null  float64\n",
      " 16  V16     284807 non-null  float64\n",
      " 17  V17     284807 non-null  float64\n",
      " 18  V18     284807 non-null  float64\n",
      " 19  V19     284807 non-null  float64\n",
      " 20  V20     284807 non-null  float64\n",
      " 21  V21     284807 non-null  float64\n",
      " 22  V22     284807 non-null  float64\n",
      " 23  V23     284807 non-null  float64\n",
      " 24  V24     284807 non-null  float64\n",
      " 25  V25     284807 non-null  float64\n",
      " 26  V26     284807 non-null  float64\n",
      " 27  V27     284807 non-null  float64\n",
      " 28  V28     284807 non-null  float64\n",
      " 29  Amount  284807 non-null  float64\n",
      " 30  Class   284807 non-null  int64  \n",
      "dtypes: float64(30), int64(1)\n",
      "memory usage: 67.4 MB\n"
     ]
    }
   ],
   "source": [
    "dataSet.info(verbose=True, show_counts=True)"
   ]
  },
  {
   "cell_type": "markdown",
   "id": "bb1d52ef",
   "metadata": {
    "id": "bb1d52ef"
   },
   "source": [
    "Data is clean as there aren't any null values"
   ]
  },
  {
   "cell_type": "markdown",
   "id": "f01fb112",
   "metadata": {
    "id": "f01fb112"
   },
   "source": [
    "#### Data set limitation"
   ]
  },
  {
   "cell_type": "code",
   "execution_count": 5,
   "id": "0a4d2d2a",
   "metadata": {
    "colab": {
     "base_uri": "https://localhost:8080/"
    },
    "id": "0a4d2d2a",
    "outputId": "53149c7a-df0a-4358-ea40-d385317541c6"
   },
   "outputs": [
    {
     "data": {
      "text/plain": [
       "0    284315\n",
       "1       492\n",
       "Name: Class, dtype: int64"
      ]
     },
     "execution_count": 5,
     "metadata": {},
     "output_type": "execute_result"
    }
   ],
   "source": [
    "dataSet['Class'].value_counts()"
   ]
  },
  {
   "cell_type": "markdown",
   "id": "7acc5a59",
   "metadata": {
    "id": "7acc5a59"
   },
   "source": [
    "Class with value 1 indicate fradulent transaction and Class with value 0 indicate a legitimate transaction. \n",
    "The data set has only 492 fradulent transaction which is 0.17% of the data set. This is a very imbalanced data set."
   ]
  },
  {
   "cell_type": "markdown",
   "id": "f6791072",
   "metadata": {
    "id": "f6791072"
   },
   "source": [
    "## Data Visualization"
   ]
  },
  {
   "cell_type": "markdown",
   "id": "ea759fda",
   "metadata": {
    "id": "ea759fda"
   },
   "source": [
    "### Histogram"
   ]
  },
  {
   "cell_type": "code",
   "execution_count": 6,
   "id": "ae056912",
   "metadata": {
    "colab": {
     "base_uri": "https://localhost:8080/",
     "height": 599
    },
    "id": "ae056912",
    "outputId": "2cac5aa0-5a6e-430f-fc73-ab190533eb75"
   },
   "outputs": [
    {
     "data": {
      "image/png": "[encoded data removed]",
      "text/plain": [
       "<Figure size 1080x720 with 2 Axes>"
      ]
     },
     "metadata": {
      "needs_background": "light"
     },
     "output_type": "display_data"
    }
   ],
   "source": [
    "classValues = dataSet['Class'].value_counts().index\n",
    "\n",
    "fig, (timeClass0Fig, timeClass1Fig) = plt.subplots(2, 1, sharex=True, figsize=(15, 10))\n",
    "\n",
    "timeClass0Fig.hist(dataSet['Time'][dataSet['Class']==classValues[0]], bins=50)\n",
    "timeClass0Fig.set_title('Class with the value = ' + str(classValues[0]))\n",
    "\n",
    "timeClass1Fig.hist(dataSet['Time'][dataSet['Class']==classValues[1]], bins=50)\n",
    "timeClass1Fig.set_title('Class with the value = ' + str(classValues[1]))\n",
    "\n",
    "plt.xlabel('Time')\n",
    "plt.ylabel('number of Txs')\n",
    "\n",
    "plt.show()\n"
   ]
  },
  {
   "cell_type": "code",
   "execution_count": 7,
   "id": "76c7ae95",
   "metadata": {
    "colab": {
     "base_uri": "https://localhost:8080/",
     "height": 595
    },
    "id": "76c7ae95",
    "outputId": "a9437aa7-ec1f-4f9a-874e-ce2917df6ee8"
   },
   "outputs": [
    {
     "data": {
      "image/png": "[encoded data removed]",
      "text/plain": [
       "<Figure size 1080x720 with 2 Axes>"
      ]
     },
     "metadata": {
      "needs_background": "light"
     },
     "output_type": "display_data"
    }
   ],
   "source": [
    "fig, (timeClass0Fig, timeClass1Fig) = plt.subplots(2, 1, sharex=True, figsize=(15, 10))\n",
    "\n",
    "timeClass0Fig.hist(dataSet['Amount'][dataSet['Class']==classValues[0]], bins=50)\n",
    "timeClass0Fig.set_title('Class with the value = ' + str(classValues[0]))\n",
    "\n",
    "timeClass1Fig.hist(dataSet['Amount'][dataSet['Class']==classValues[1]], bins=50)\n",
    "timeClass1Fig.set_title('Class with the value = ' + str(classValues[1]))\n",
    "\n",
    "plt.xlabel('Amount')\n",
    "plt.ylabel('number of Txs')\n",
    "\n",
    "plt.show()"
   ]
  },
  {
   "cell_type": "markdown",
   "id": "9d9d74e1",
   "metadata": {
    "id": "9d9d74e1"
   },
   "source": [
    "### Correlation"
   ]
  },
  {
   "cell_type": "code",
   "execution_count": 8,
   "id": "68523e9b",
   "metadata": {
    "colab": {
     "base_uri": "https://localhost:8080/",
     "height": 607
    },
    "id": "68523e9b",
    "outputId": "f2758c81-c335-4d2e-dea5-2e3b770a842b"
   },
   "outputs": [
    {
     "data": {
      "image/png": "[encoded data removed]",
      "text/plain": [
       "<Figure size 720x720 with 1 Axes>"
      ]
     },
     "metadata": {
      "needs_background": "light"
     },
     "output_type": "display_data"
    }
   ],
   "source": [
    "plt.figure(figsize=(10,10))\n",
    "corr = dataSet.corr()['Class'].sort_values().drop('Class')\n",
    "corr.plot(kind='barh')\n",
    "plt.title('Correlation between Features')\n",
    "plt.grid(True)\n",
    "plt.show()"
   ]
  },
  {
   "cell_type": "markdown",
   "id": "ba5bc8f9",
   "metadata": {
    "id": "ba5bc8f9"
   },
   "source": [
    "## Separating the data into featured and dependent variable"
   ]
  },
  {
   "cell_type": "code",
   "execution_count": 43,
   "id": "e74c1ba6",
   "metadata": {
    "id": "e74c1ba6"
   },
   "outputs": [],
   "source": [
    "df = dataSet[dataSet['Class'] == 1]\n",
    "df1 = dataSet[dataSet['Class']== 0]\n",
    "df1.drop(df1.index[4000: ],0,inplace=True)\n",
    "nUsersCreditCardTxs = pd.concat([df, df1], axis=0)\n"
   ]
  },
  {
   "cell_type": "code",
   "execution_count": 42,
   "id": "c9a4e81c",
   "metadata": {
    "id": "c9a4e81c"
   },
   "outputs": [],
   "source": [
    "nUsersCreditCardTxs.drop(['V11','V4','V2','V21','V19','V20','V8','V27','V28','Amount','V26','V25','V22','V23','V15','V13','V24','Time','V6','V17','V14'], axis=1, inplace=True)\n",
    "\n",
    "x = nUsersCreditCardTxs.iloc[: , :-1].values\n",
    "y = nUsersCreditCardTxs.iloc[: , -1].values\n"
   ]
  },
  {
   "cell_type": "code",
   "execution_count": 44,
   "id": "8503c900",
   "metadata": {},
   "outputs": [],
   "source": [
    "nUsersCreditCardTxs.to_csv('data/nUserCreditCardTxsTrucated.csv')"
   ]
  },
  {
   "cell_type": "code",
   "execution_count": 11,
   "id": "29111816",
   "metadata": {
    "id": "29111816"
   },
   "outputs": [],
   "source": [
    "from sklearn.model_selection import train_test_split\n",
    "\n",
    "x_train,x_test,y_train,y_test= train_test_split(x,y, test_size=0.2, stratify=y, random_state=24)"
   ]
  },
  {
   "cell_type": "code",
   "execution_count": 12,
   "id": "7af4a96f",
   "metadata": {
    "id": "7af4a96f"
   },
   "outputs": [],
   "source": [
    "from sklearn.preprocessing import StandardScaler\n",
    "\n",
    "standardScaler=StandardScaler()\n",
    "x_train=standardScaler.fit_transform(x_train)\n",
    "x_test=standardScaler.transform(x_test)"
   ]
  },
  {
   "cell_type": "markdown",
   "id": "d394d238",
   "metadata": {
    "id": "d394d238"
   },
   "source": [
    "## Model building"
   ]
  },
  {
   "cell_type": "markdown",
   "id": "646c6748",
   "metadata": {
    "id": "646c6748"
   },
   "source": [
    "## Model 1 -  Logistic Regression"
   ]
  },
  {
   "cell_type": "code",
   "execution_count": 13,
   "id": "ad01d13e",
   "metadata": {
    "id": "ad01d13e"
   },
   "outputs": [],
   "source": [
    "from sklearn.linear_model import LogisticRegression\n",
    "\n",
    "lrModel = LogisticRegression()\n",
    "lrModel = lrModel.fit(x_train,y_train)\n",
    "y_pred = lrModel.predict(x_test)"
   ]
  },
  {
   "cell_type": "code",
   "execution_count": 14,
   "id": "94d2dd19",
   "metadata": {
    "id": "94d2dd19"
   },
   "outputs": [],
   "source": [
    "from sklearn.metrics import accuracy_score, confusion_matrix\n",
    "\n",
    "accuracyLR = accuracy_score(y_test,y_pred)\n",
    "confusionMatrixLR = confusion_matrix(y_test,y_pred)"
   ]
  },
  {
   "cell_type": "code",
   "execution_count": 15,
   "id": "c9f8e237",
   "metadata": {
    "colab": {
     "base_uri": "https://localhost:8080/"
    },
    "id": "c9f8e237",
    "outputId": "1f56961b-2583-4431-b444-a9e388d547a9"
   },
   "outputs": [
    {
     "name": "stdout",
     "output_type": "stream",
     "text": [
      "Accuracy is 95.99198396793587\n",
      "Confusion Matrix is \n",
      "[[399   1]\n",
      " [ 19  80]]\n"
     ]
    }
   ],
   "source": [
    "print(f\"Accuracy is {accuracyLR*100}\")\n",
    "print(\"Confusion Matrix is \")\n",
    "print(confusionMatrixLR)"
   ]
  },
  {
   "cell_type": "code",
   "execution_count": 16,
   "id": "2d78a123",
   "metadata": {
    "colab": {
     "base_uri": "https://localhost:8080/",
     "height": 279
    },
    "id": "2d78a123",
    "outputId": "5b40c6a2-ced1-4819-b426-7e324018f7e2"
   },
   "outputs": [
    {
     "data": {
      "image/png": "[encoded data removed]",
      "text/plain": [
       "<Figure size 432x288 with 2 Axes>"
      ]
     },
     "metadata": {
      "needs_background": "light"
     },
     "output_type": "display_data"
    }
   ],
   "source": [
    "from sklearn.metrics import plot_confusion_matrix\n",
    "\n",
    "plot_confusion_matrix(lrModel, x_test, y_test, cmap=plt.cm.Greens)\n",
    "plt.show()"
   ]
  },
  {
   "cell_type": "markdown",
   "id": "d6338ae7",
   "metadata": {
    "id": "d6338ae7"
   },
   "source": [
    "## Model 2 - Linear SVM (Support Vector Machine)"
   ]
  },
  {
   "cell_type": "code",
   "execution_count": 17,
   "id": "7c1a30a1",
   "metadata": {
    "id": "7c1a30a1"
   },
   "outputs": [],
   "source": [
    "from sklearn import svm\n",
    "\n",
    "svmModel = svm.SVC(kernel='linear')\n"
   ]
  },
  {
   "cell_type": "code",
   "execution_count": 18,
   "id": "05ee9e6c",
   "metadata": {
    "colab": {
     "base_uri": "https://localhost:8080/"
    },
    "id": "05ee9e6c",
    "outputId": "751398fe-b67c-46a6-c31a-7783605ad8cb"
   },
   "outputs": [
    {
     "data": {
      "text/plain": [
       "SVC(kernel='linear')"
      ]
     },
     "execution_count": 18,
     "metadata": {},
     "output_type": "execute_result"
    }
   ],
   "source": [
    "svmModel.fit(x_train, y_train)\n"
   ]
  },
  {
   "cell_type": "code",
   "execution_count": 19,
   "id": "2460f8c3",
   "metadata": {
    "id": "2460f8c3"
   },
   "outputs": [],
   "source": [
    "y_pred = svmModel.predict(x_test)"
   ]
  },
  {
   "cell_type": "code",
   "execution_count": 20,
   "id": "1995903c",
   "metadata": {
    "id": "1995903c"
   },
   "outputs": [],
   "source": [
    "accuracySVM = accuracy_score(y_test,y_pred)\n",
    "confusionMatrixSVM = confusion_matrix(y_test,y_pred)"
   ]
  },
  {
   "cell_type": "code",
   "execution_count": 21,
   "id": "438097bf",
   "metadata": {
    "colab": {
     "base_uri": "https://localhost:8080/"
    },
    "id": "438097bf",
    "outputId": "2c91517f-ea29-4887-e049-4e67bcee8301"
   },
   "outputs": [
    {
     "name": "stdout",
     "output_type": "stream",
     "text": [
      "Accuracy is 95.39078156312625\n",
      "Confusion Matrix is \n",
      "[[399   1]\n",
      " [ 22  77]]\n"
     ]
    }
   ],
   "source": [
    "print(f\"Accuracy is {accuracySVM*100}\")\n",
    "print(\"Confusion Matrix is \")\n",
    "print(confusionMatrixSVM)"
   ]
  },
  {
   "cell_type": "code",
   "execution_count": 22,
   "id": "18aeff9d",
   "metadata": {
    "colab": {
     "base_uri": "https://localhost:8080/",
     "height": 279
    },
    "id": "18aeff9d",
    "outputId": "3857c27d-27b5-4a13-fdbc-b6aa9adb4d7a"
   },
   "outputs": [
    {
     "data": {
      "image/png": "[encoded data removed]",
      "text/plain": [
       "<Figure size 432x288 with 2 Axes>"
      ]
     },
     "metadata": {
      "needs_background": "light"
     },
     "output_type": "display_data"
    }
   ],
   "source": [
    "plot_confusion_matrix(svmModel, x_test, y_test, cmap=plt.cm.Blues)\n",
    "plt.show()"
   ]
  },
  {
   "cell_type": "markdown",
   "id": "2d008241",
   "metadata": {
    "id": "2d008241"
   },
   "source": [
    "## Model 3 - Decision Tree"
   ]
  },
  {
   "cell_type": "code",
   "execution_count": 23,
   "id": "953deb4e",
   "metadata": {
    "id": "953deb4e"
   },
   "outputs": [],
   "source": [
    "from sklearn import tree\n",
    "\n",
    "dtModel = tree.DecisionTreeClassifier()\n",
    "dtModel = dtModel.fit(x_train,y_train)\n",
    "y_pred = dtModel.predict(x_test)"
   ]
  },
  {
   "cell_type": "code",
   "execution_count": 24,
   "id": "9b2ede0a",
   "metadata": {
    "id": "9b2ede0a"
   },
   "outputs": [],
   "source": [
    "accuracyDt=accuracy_score(y_test,y_pred)\n",
    "confusionMatrixDt=confusion_matrix(y_test,y_pred)"
   ]
  },
  {
   "cell_type": "code",
   "execution_count": 25,
   "id": "5da52822",
   "metadata": {
    "colab": {
     "base_uri": "https://localhost:8080/"
    },
    "id": "5da52822",
    "outputId": "e1626a13-1bbf-4b1f-afd1-9984697eeb1e"
   },
   "outputs": [
    {
     "name": "stdout",
     "output_type": "stream",
     "text": [
      "Accuracy is 94.98997995991984\n",
      "Confusion Matrix is \n",
      "[[390  10]\n",
      " [ 15  84]]\n"
     ]
    }
   ],
   "source": [
    "print(f\"Accuracy is {accuracyDt*100}\")\n",
    "print(\"Confusion Matrix is \")\n",
    "print(confusionMatrixDt)"
   ]
  },
  {
   "cell_type": "code",
   "execution_count": 26,
   "id": "e8e59f01",
   "metadata": {
    "colab": {
     "base_uri": "https://localhost:8080/",
     "height": 279
    },
    "id": "e8e59f01",
    "outputId": "27777b2f-2d66-44c3-864b-2b228be866bf"
   },
   "outputs": [
    {
     "data": {
      "image/png": "[encoded data removed]",
      "text/plain": [
       "<Figure size 432x288 with 2 Axes>"
      ]
     },
     "metadata": {
      "needs_background": "light"
     },
     "output_type": "display_data"
    }
   ],
   "source": [
    "plot_confusion_matrix(dtModel, x_test, y_test,cmap=plt.cm.Reds)\n",
    "plt.show()"
   ]
  },
  {
   "cell_type": "markdown",
   "id": "54ee0a94",
   "metadata": {
    "id": "54ee0a94"
   },
   "source": [
    "## Model 4 -  RandomForestClassifier"
   ]
  },
  {
   "cell_type": "code",
   "execution_count": 27,
   "id": "dda8feeb",
   "metadata": {
    "id": "dda8feeb"
   },
   "outputs": [],
   "source": [
    "from sklearn.ensemble import RandomForestClassifier\n",
    "\n",
    "rfModel =RandomForestClassifier()\n",
    "rfModel = rfModel.fit(x_train,y_train)\n",
    "y_pred = rfModel.predict(x_test)"
   ]
  },
  {
   "cell_type": "code",
   "execution_count": 28,
   "id": "da52e827",
   "metadata": {
    "id": "da52e827"
   },
   "outputs": [],
   "source": [
    "accuracyRf=accuracy_score(y_test,y_pred)\n",
    "confusionMatrixRf=confusion_matrix(y_test,y_pred)"
   ]
  },
  {
   "cell_type": "code",
   "execution_count": 29,
   "id": "c93639e4",
   "metadata": {
    "colab": {
     "base_uri": "https://localhost:8080/"
    },
    "id": "c93639e4",
    "outputId": "1e975d86-5470-4e88-db6a-650cf0ccd551"
   },
   "outputs": [
    {
     "name": "stdout",
     "output_type": "stream",
     "text": [
      "Accuracy is 96.79358717434869\n",
      "Confusion Matrix is \n",
      "[[399   1]\n",
      " [ 15  84]]\n"
     ]
    }
   ],
   "source": [
    "print(f\"Accuracy is {accuracyRf*100}\")\n",
    "print(\"Confusion Matrix is \")\n",
    "print(confusionMatrixRf)"
   ]
  },
  {
   "cell_type": "code",
   "execution_count": 30,
   "id": "911c48bb",
   "metadata": {
    "colab": {
     "base_uri": "https://localhost:8080/",
     "height": 279
    },
    "id": "911c48bb",
    "outputId": "90da910b-39f3-4197-ce54-c24b0e4996e4"
   },
   "outputs": [
    {
     "data": {
      "image/png": "[encoded data removed]",
      "text/plain": [
       "<Figure size 432x288 with 2 Axes>"
      ]
     },
     "metadata": {
      "needs_background": "light"
     },
     "output_type": "display_data"
    }
   ],
   "source": [
    "plot_confusion_matrix(rfModel, x_test, y_test,cmap=plt.cm.Greens)\n",
    "plt.show()"
   ]
  },
  {
   "cell_type": "markdown",
   "id": "abbddfce",
   "metadata": {
    "id": "abbddfce"
   },
   "source": [
    "## Model 5 - VotingClassifier"
   ]
  },
  {
   "cell_type": "code",
   "execution_count": 31,
   "id": "7d1680c9",
   "metadata": {
    "id": "7d1680c9"
   },
   "outputs": [],
   "source": [
    "from sklearn.ensemble import VotingClassifier\n",
    "\n",
    "vcModel = VotingClassifier(estimators=[('rf', rfModel),('dt', dtModel)], voting='hard')\n",
    "vcModel = vcModel.fit(x_train,y_train)\n",
    "y_pred = vcModel.predict(x_test)"
   ]
  },
  {
   "cell_type": "code",
   "execution_count": 32,
   "id": "cfe38d21",
   "metadata": {
    "id": "cfe38d21"
   },
   "outputs": [],
   "source": [
    "accuracyVC = accuracy_score(y_test,y_pred)\n",
    "confusionMatrixVC = confusion_matrix(y_test,y_pred)"
   ]
  },
  {
   "cell_type": "code",
   "execution_count": 33,
   "id": "106f0703",
   "metadata": {
    "colab": {
     "base_uri": "https://localhost:8080/"
    },
    "id": "106f0703",
    "outputId": "ac835726-841a-483f-d2a5-669872a4efc2"
   },
   "outputs": [
    {
     "name": "stdout",
     "output_type": "stream",
     "text": [
      "Accuracy is 96.59318637274549\n",
      "Confusion Matrix is \n",
      "[[399   1]\n",
      " [ 16  83]]\n"
     ]
    }
   ],
   "source": [
    "print(f\"Accuracy is {accuracyVC*100}\")\n",
    "print(\"Confusion Matrix is \")\n",
    "print(confusionMatrixVC)"
   ]
  },
  {
   "cell_type": "code",
   "execution_count": 34,
   "id": "2888f023",
   "metadata": {
    "colab": {
     "base_uri": "https://localhost:8080/",
     "height": 279
    },
    "id": "2888f023",
    "outputId": "cc6dbb67-a099-4528-8597-2c6551efb132"
   },
   "outputs": [
    {
     "data": {
      "image/png": "[encoded data removed]",
      "text/plain": [
       "<Figure size 432x288 with 2 Axes>"
      ]
     },
     "metadata": {
      "needs_background": "light"
     },
     "output_type": "display_data"
    }
   ],
   "source": [
    "plot_confusion_matrix(vcModel, x_test, y_test,cmap=plt.cm.Blues)\n",
    "plt.show()"
   ]
  },
  {
   "cell_type": "markdown",
   "id": "aeba0a67",
   "metadata": {
    "id": "aeba0a67"
   },
   "source": [
    "## Model 6 - XGBoost"
   ]
  },
  {
   "cell_type": "code",
   "execution_count": 35,
   "id": "94ce7374",
   "metadata": {
    "id": "94ce7374"
   },
   "outputs": [
    {
     "name": "stdout",
     "output_type": "stream",
     "text": [
      "[21:24:43] WARNING: C:/Users/Administrator/workspace/xgboost-win64_release_1.5.1/src/learner.cc:1115: Starting in XGBoost 1.3.0, the default evaluation metric used with the objective 'binary:logistic' was changed from 'error' to 'logloss'. Explicitly set eval_metric if you'd like to restore the old behavior.\n"
     ]
    }
   ],
   "source": [
    "import xgboost as xgb\n",
    "\n",
    "#xgbModel = xgb.XGBRegressor(objective ='reg:logistic', colsample_bytree = 0.3, learning_rate = 0.1,\n",
    "#                max_depth = 5, alpha = 10, n_estimators = 10)\n",
    "xgbModel = xgb.XGBClassifier()\n",
    "xgbModel = xgbModel.fit(x_train,y_train)\n",
    "y_pred = xgbModel.predict(x_test)"
   ]
  },
  {
   "cell_type": "code",
   "execution_count": 36,
   "id": "11b9f16c",
   "metadata": {
    "id": "11b9f16c"
   },
   "outputs": [],
   "source": [
    "accuracyXGB = accuracy_score(y_test,y_pred)\n",
    "confusionMatrixXGB = confusion_matrix(y_test,y_pred)"
   ]
  },
  {
   "cell_type": "code",
   "execution_count": 37,
   "id": "6a05e3fe",
   "metadata": {
    "colab": {
     "base_uri": "https://localhost:8080/"
    },
    "id": "6a05e3fe",
    "outputId": "f52e0886-2e09-4212-e14e-4bd4a4c8afcb"
   },
   "outputs": [
    {
     "name": "stdout",
     "output_type": "stream",
     "text": [
      "Accuracy is 96.39278557114228\n",
      "Confusion Matrix is \n",
      "[[398   2]\n",
      " [ 16  83]]\n"
     ]
    }
   ],
   "source": [
    "print(f\"Accuracy is {accuracyXGB*100}\")\n",
    "print(\"Confusion Matrix is \")\n",
    "print(confusionMatrixXGB)"
   ]
  },
  {
   "cell_type": "code",
   "execution_count": 38,
   "id": "29dee3e2",
   "metadata": {
    "colab": {
     "base_uri": "https://localhost:8080/",
     "height": 279
    },
    "id": "29dee3e2",
    "outputId": "e8c0b001-b61d-4ca5-8fc2-267e2f8c1526"
   },
   "outputs": [
    {
     "data": {
      "image/png": "[encoded data removed]",
      "text/plain": [
       "<Figure size 432x288 with 2 Axes>"
      ]
     },
     "metadata": {
      "needs_background": "light"
     },
     "output_type": "display_data"
    }
   ],
   "source": [
    "plot_confusion_matrix(xgbModel, x_test, y_test,cmap=plt.cm.Reds)\n",
    "plt.show()"
   ]
  }
 ],
 "metadata": {
  "accelerator": "GPU",
  "colab": {
   "provenance": []
  },
  "gpuClass": "standard",
  "kernelspec": {
   "display_name": "Python 3 (ipykernel)",
   "language": "python",
   "name": "python3"
  },
  "language_info": {
   "codemirror_mode": {
    "name": "ipython",
    "version": 3
   },
   "file_extension": ".py",
   "mimetype": "text/x-python",
   "name": "python",
   "nbconvert_exporter": "python",
   "pygments_lexer": "ipython3",
   "version": "3.9.7"
  }
 },
 "nbformat": 4,
 "nbformat_minor": 5
}
